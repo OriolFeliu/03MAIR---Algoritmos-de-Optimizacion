{
  "cells": [
    {
      "cell_type": "markdown",
      "metadata": {
        "id": "hVbXYX-RfPWh"
      },
      "source": [
        "# Algoritmos de optimización - Seminario<br>\n",
        "Oriol Feliu Juárez:   <br>\n",
        "Url: https://github.com/OriolFeliu/03MAIR---Algoritmos-de-Optimizacion---2019/Seminario_Algoritmos_Oriol_Feliu.ipynb<br>\n",
        "Problema:\n",
        ">3. Combinar cifras y operaciones\n",
        "\n",
        "Descripción del problema:\n",
        "\n",
        "• El problema consiste en analizar el siguiente problema y diseñar un algoritmo que lo resuelva.\n",
        "\n",
        "• Disponemos de las 9 cifras del 1 al 9 (excluimos el cero) y de los 4 signos básicos de las operaciones fundamentales: suma(+), resta(-), multiplicación(*) y división(/)\n",
        "\n",
        "• Debemos combinarlos alternativamente sin repetir ninguno de ellos para obtener una\n",
        "cantidad dada. Un ejemplo sería para obtener el 4:\n",
        "\n",
        "**4+2-6/3·1 = 4**\n",
        "\n",
        "• Debe analizarse el problema para encontrar todos los valores enteros posibles planteando las\n",
        "siguientes cuestiones:\n",
        "\n",
        "- ¿Qué valor máximo y mínimo se pueden obtener según las condiciones del problema?\n",
        "- ¿Es posible encontrar todos los valores enteros posibles entre dicho mínimo y máximo?\n",
        "\n",
        "• Nota: Es posible usar la función de python “eval” para evaluar una expresión\n",
        "\n",
        "\n",
        "\n",
        "(*) La respuesta es obligatoria\n",
        "\n",
        "\n",
        "\n",
        "\n",
        "\n",
        "                                        "
      ]
    },
    {
      "cell_type": "markdown",
      "metadata": {
        "id": "3_-exlrTgLd-"
      },
      "source": [
        "¿Cuantas posibilidades hay sin tener en cuenta las restricciones?<br>\n",
        "\n",
        "\n",
        "¿Cuantas posibilidades hay teniendo en cuenta todas las restricciones.\n",
        "\n"
      ]
    },
    {
      "cell_type": "markdown",
      "metadata": {
        "id": "ZASdwYVrpYbu"
      },
      "source": [
        "Sin tener en cuenta las restricciones, el número total de posibilidades es $9⁵ · 4⁴ = 15116544$, porque se tienen 9 números diferentes que ocupan 5 posiciones en la expresión y 4 operandos diferentes en 4 posiciones.\n",
        "\n",
        "Teniendo en cuenta las restricciones: los números y los operadores no se pueden repetir, el número posible de combinaciones numéricas es $\\frac{9!}{4!}$ y el número de combinaciones posibles con los operadores es ${4!}$. Por lo tanto, el número total de operaciones posibles es $\\frac{9!}{4!} · {4!} = {9!} = 362880$.\n"
      ]
    },
    {
      "cell_type": "code",
      "execution_count": null,
      "metadata": {
        "id": "_cF8ONF7pYbu"
      },
      "outputs": [],
      "source": [
        "numbers = {'1', '2', '3', '4', '5', '6', '7', '8', '9'}\n",
        "operators = {'+', '-', '/', '*'}\n",
        "\n",
        "counter = 0\n",
        "results = []\n",
        "results_int = []\n",
        "\n",
        "for n0 in numbers:\n",
        "    for n1 in numbers - {n0}:\n",
        "        for n2 in numbers - {n0, n1}:\n",
        "            for n3 in numbers - {n0, n1, n2}:\n",
        "                for n4 in numbers - {n0, n1, n2, n3}:\n",
        "                    for o0 in operators:\n",
        "                        for o1 in operators - {o0}:\n",
        "                            for o2 in operators - {o0, o1}:\n",
        "                                for o3 in operators - {o0, o1, o2}:\n",
        "                                    expression = n0 + o0 + n1 + o1 + n2 + o2 + n3 + o3 + n4\n",
        "                                    result = eval(expression)\n",
        "\n",
        "                                    counter += 1\n",
        "                                    results.append(result)\n",
        "                                    if result == int(result):\n",
        "                                        results_int.append(result)"
      ]
    },
    {
      "cell_type": "code",
      "execution_count": null,
      "metadata": {
        "id": "IznBl_dBpYbv",
        "outputId": "51bc8ef7-ad94-49fc-ab70-980cfdb522d1"
      },
      "outputs": [
        {
          "name": "stdout",
          "output_type": "stream",
          "text": [
            "Total expressions found: 362880\n",
            "Max value float: 78.83333333333333\n",
            "Min  float: -70.71428571428571\n",
            "Max value int: 77.0\n",
            "Min  int: -69.0\n"
          ]
        }
      ],
      "source": [
        "print(f'Total expressions found: {counter}')\n",
        "print(f'Max value float: {max(results)}')\n",
        "print(f'Min  float: {min(results)}')\n",
        "print(f'Max value int: {max(results_int)}')\n",
        "print(f'Min  int: {min(results_int)}')"
      ]
    },
    {
      "cell_type": "markdown",
      "metadata": {
        "id": "Paf52t1opYbv"
      },
      "source": [
        "Con el código anterior se puede observar que se cumple que hay 362880 expresiones posibles, el número máximo no decimal que se puede obtener es 77 y el mínimo es -69."
      ]
    },
    {
      "cell_type": "code",
      "execution_count": null,
      "metadata": {
        "id": "2qjLNrZ3pYbw",
        "outputId": "fa6e964e-36f1-48bf-a29f-a28ad14831b9"
      },
      "outputs": [
        {
          "data": {
            "text/plain": [
              "[]"
            ]
          },
          "execution_count": 53,
          "metadata": {},
          "output_type": "execute_result"
        }
      ],
      "source": [
        "possible_numbers = sorted(list(set(results_int)))\n",
        "all_values = list(range(-69, 78))\n",
        "\n",
        "list(set(all_values) - set(possible_numbers))"
      ]
    },
    {
      "cell_type": "markdown",
      "metadata": {
        "id": "7NA0NR9KpYbw"
      },
      "source": [
        "Se pueden encontrar todos los valores como expresión entre -69 y 77 inclusive."
      ]
    },
    {
      "cell_type": "markdown",
      "metadata": {
        "id": "dzynfVJahHoY"
      },
      "source": [
        "## Modelo para el espacio de soluciones<br>\n",
        "¿Cual es la estructura de datos que mejor se adapta al problema? Argumentalo. (Es posible que hayas elegido una al principio y veas la necesidad de cambiar, arguentalo)"
      ]
    },
    {
      "cell_type": "markdown",
      "metadata": {
        "id": "xFIJrOwKi2Ti"
      },
      "source": [
        "Antes de implementar el código, considero que la mejor estructura de datos será una lista o un numpy array. Este último será más eficiente si no es necesario modificar el tamaño de los arrays.\n",
        "\n",
        "Después de implementar el coóigo, la mejor estructura de datos es el set, que permite restar dos sets y evitar recorrer el listado original de números y operadores."
      ]
    },
    {
      "cell_type": "markdown",
      "metadata": {
        "id": "7Z9U2W7bi-XS"
      },
      "source": [
        "Según el modelo para el espacio de soluciones<br>\n",
        "(*)¿Cual es la función objetivo?\n",
        "\n",
        "(*)¿Es un problema de maximización o minimización?"
      ]
    },
    {
      "cell_type": "markdown",
      "metadata": {
        "id": "hBalWLM7j1_d"
      },
      "source": [
        "### Función Objetivo\n",
        "\n",
        "En este problema, no se puede definir una función objetivo o función coste en el sentido tradicional de los problemas de optimización, ya que no se está optimizando una variable específica para encontrar un máximo o mínimo de dicha variable. En lugar de eso, el interés radica en explorar el espacio de soluciones para encontrar todas las posibles expresiones que cumplan con las restricciones dadas (usar las cifras del 1 al 9 y los operadores +, -, *, / sin repetición) y determinar los valores enteros que estas expresiones pueden generar.\n",
        "\n",
        "Se podría considerar la función objetivo como la búsqueda de todas las combinaciones posibles de operaciones y cifras que permitan obtener una variedad completa de resultados entre un valor mínimo y un valor máximo.\n",
        "\n",
        "### Maximización o Minimización\n",
        "\n",
        "El problema no se clasifica directamente como un problema de maximización o minimización porque no hay una variable única que se intenta optimizar. En su lugar, el objetivo es identificar el rango completo de valores posibles:\n",
        "\n",
        "- Encontrar el valor mínimo posible que se puede obtener utilizando las combinaciones válidas de cifras y operadores.\n",
        "- Encontrar el valor máximo posible bajo las mismas condiciones."
      ]
    },
    {
      "cell_type": "markdown",
      "metadata": {
        "id": "rlnTYgY1j6I2"
      },
      "source": [
        "Diseña un algoritmo para resolver el problema por fuerza bruta"
      ]
    },
    {
      "cell_type": "code",
      "execution_count": null,
      "metadata": {
        "id": "CJb5sQ0qkENy",
        "outputId": "3c0b1af6-f070-47f2-9b41-a18d42a14e0a"
      },
      "outputs": [
        {
          "data": {
            "text/plain": [
              "('3-4/1*8+7', -22.0)"
            ]
          },
          "execution_count": 46,
          "metadata": {},
          "output_type": "execute_result"
        }
      ],
      "source": [
        "import random\n",
        "\n",
        "\n",
        "def find_expression_brute_force(target_number):\n",
        "    numbers = {'1', '2', '3', '4', '5', '6', '7', '8', '9'}\n",
        "    operators = {'+', '-', '/', '*'}\n",
        "\n",
        "    for n0 in numbers:\n",
        "        for n1 in numbers - {n0}:\n",
        "            for n2 in numbers - {n0, n1}:\n",
        "                for n3 in numbers - {n0, n1, n2}:\n",
        "                    for n4 in numbers - {n0, n1, n2, n3}:\n",
        "                        for o0 in operators:\n",
        "                            for o1 in operators - {o0}:\n",
        "                                for o2 in operators - {o0, o1}:\n",
        "                                    for o3 in operators - {o0, o1, o2}:\n",
        "                                        expression = n0 + o0 + n1 + o1 + n2 + o2 + n3 + o3 + n4\n",
        "                                        result = eval(expression)\n",
        "                                        if result == target_number:\n",
        "                                            return expression, result\n",
        "\n",
        "    return None\n",
        "\n",
        "\n",
        "target_number = random.randint(-69, 77)\n",
        "find_expression_brute_force(target_number)"
      ]
    },
    {
      "cell_type": "code",
      "execution_count": null,
      "metadata": {
        "id": "tJ7B2QF9pYbw",
        "outputId": "1f30d26a-f635-4515-b4d3-30ccefc2c86d"
      },
      "outputs": [
        {
          "name": "stdout",
          "output_type": "stream",
          "text": [
            "8.42 s ± 517 ms per loop (mean ± std. dev. of 7 runs, 1 loop each)\n"
          ]
        }
      ],
      "source": [
        "%%timeit\n",
        "for i in range (-69, 77):\n",
        "    find_expression_brute_force(i)"
      ]
    },
    {
      "cell_type": "markdown",
      "metadata": {
        "id": "tgrnsC2nkFa8"
      },
      "source": [
        "## Complejidad del algoritmo por fuerza bruta"
      ]
    },
    {
      "cell_type": "markdown",
      "metadata": {
        "id": "KNouEt12pYbw"
      },
      "source": [
        "Si se considera como n la cantidad de cifras diferentes que se tienen, en este caso 9, y m como el numero de operadores totales, en este caso 4, y se sabe que en el peor caso este algoritmo tarda $\\frac{n!}{4!} · {m!} = 362880$, entonces se sabe que la complejidad es O($\\frac{n!}{4!} · {m!}$), que de forma general se puede expresar como una complejidad factorial O(${n!}$)."
      ]
    },
    {
      "cell_type": "markdown",
      "metadata": {
        "id": "txbrmLmskReM"
      },
      "source": [
        "(*)Diseña un algoritmo que mejore la complejidad del algortimo por fuerza bruta. Argumenta porque crees que mejora el algoritmo por fuerza bruta"
      ]
    },
    {
      "cell_type": "code",
      "execution_count": null,
      "metadata": {
        "id": "m1eyM21Vkabg"
      },
      "outputs": [],
      "source": [
        "from itertools import permutations\n",
        "import operator\n",
        "\n",
        "\n",
        "def find_expression_improved(num):\n",
        "    numbers = ['1', '2', '3', '4', '5', '6', '7', '8', '9']\n",
        "    operators = ['+', '-', '/', '*']\n",
        "    n_operators = len(operators)\n",
        "\n",
        "    for num_perm in permutations(numbers, n_operators + 1):\n",
        "        for op_perm in permutations(operators, n_operators):\n",
        "            expression = f'{num_perm[0]}{op_perm[0]}{num_perm[1]}{op_perm[1]}{num_perm[2]}{op_perm[2]}{num_perm[3]}{op_perm[3]}{num_perm[4]}'\n",
        "            result = eval(expression)\n",
        "\n",
        "            if result == num:\n",
        "                return expression, result"
      ]
    },
    {
      "cell_type": "code",
      "execution_count": null,
      "metadata": {
        "id": "bJG0yV-kpYbx",
        "outputId": "f022496c-a7c3-4a93-b1e6-11247559f928"
      },
      "outputs": [
        {
          "name": "stdout",
          "output_type": "stream",
          "text": [
            "18.3 s ± 564 ms per loop (mean ± std. dev. of 7 runs, 1 loop each)\n"
          ]
        }
      ],
      "source": [
        "%%timeit\n",
        "for i in range (-69, 77):\n",
        "    find_expression_improved(i)"
      ]
    },
    {
      "cell_type": "markdown",
      "metadata": {
        "id": "eGDB4K6uk1iN"
      },
      "source": [
        "(*)Calcula la complejidad del algoritmo"
      ]
    },
    {
      "cell_type": "markdown",
      "metadata": {
        "id": "NhpTh_BPk1ms"
      },
      "source": [
        "Tiene la misma complejidad O(${n!}$) pero no recorre tantos loops y puede encontrar la solución más rápidamente, este código mejorado usa la libreria itertools y la funcion permutations para explorar todas las combinaciones posibles de numeros y operadores."
      ]
    },
    {
      "cell_type": "markdown",
      "metadata": {
        "id": "3M6QjTsSkmYe"
      },
      "source": [
        "Según el problema (y tenga sentido), diseña un juego de datos de entrada aleatorios"
      ]
    },
    {
      "cell_type": "markdown",
      "metadata": {
        "id": "TnOXyhlspYbx"
      },
      "source": [
        "Las partes que podrían ser aleatorias son el valor resultante de la expresión y los números y operadores que se usarán en la expresión. Se utiliza la biblioteca random de Python para generar estos valores, especificando manualmente el rango y la cantidad de valores deseados."
      ]
    },
    {
      "cell_type": "code",
      "execution_count": null,
      "metadata": {
        "id": "sJ-N2etjkyWc",
        "outputId": "734fa361-6ae6-4c63-f5bb-443cd2199bf4"
      },
      "outputs": [
        {
          "name": "stdout",
          "output_type": "stream",
          "text": [
            "16\n",
            "{'20', '13', '2', '4', '6', '1', '7', '9', '10', '18'}\n",
            "{'+', '/', '*', '**'}\n"
          ]
        }
      ],
      "source": [
        "target_number = random.randint(-69, 77)\n",
        "\n",
        "min_num = 1\n",
        "max_num = 20\n",
        "all_numbers = list(range(min_num, max_num + 1))\n",
        "all_numbers = [str(num) for num in all_numbers]\n",
        "amount_of_num = 10\n",
        "numbers = set(random.sample(all_numbers, amount_of_num))\n",
        "\n",
        "all_operators = ['+', '-', '/', '*', '**']\n",
        "amount_of_op = 4\n",
        "operators = set(random.sample(all_operators, amount_of_op))\n",
        "\n",
        "print(target_number)\n",
        "print(numbers)\n",
        "print(operators)"
      ]
    },
    {
      "cell_type": "markdown",
      "metadata": {
        "id": "zy5ZROmjlGo1"
      },
      "source": [
        "Aplica el algoritmo al juego de datos generado"
      ]
    },
    {
      "cell_type": "code",
      "execution_count": null,
      "metadata": {
        "id": "tWgVM9cMpYbx",
        "outputId": "b4c0ebea-72b5-4670-a40a-d310e4a4ba16"
      },
      "outputs": [
        {
          "data": {
            "text/plain": [
              "('20*2/4+6**1', 16.0)"
            ]
          },
          "execution_count": 225,
          "metadata": {},
          "output_type": "execute_result"
        }
      ],
      "source": [
        "def find_expression_brute_force(numbers, operators, target_number):\n",
        "    for n0 in numbers:\n",
        "        for n1 in numbers - {n0}:\n",
        "            for n2 in numbers - {n0, n1}:\n",
        "                for n3 in numbers - {n0, n1, n2}:\n",
        "                    for n4 in numbers - {n0, n1, n2, n3}:\n",
        "                        for o0 in operators:\n",
        "                            for o1 in operators - {o0}:\n",
        "                                for o2 in operators - {o0, o1}:\n",
        "                                    for o3 in operators - {o0, o1, o2}:\n",
        "                                        expression = n0 + o0 + n1 + o1 + n2 + o2 + n3 + o3 + n4\n",
        "                                        result = eval(expression)\n",
        "                                        if result == target_number:\n",
        "                                            return expression, result\n",
        "\n",
        "    return None\n",
        "\n",
        "find_expression_brute_force(numbers, operators, target_number)"
      ]
    },
    {
      "cell_type": "markdown",
      "metadata": {
        "id": "kAkDPUyRtYyH"
      },
      "source": [
        "Describe brevemente las lineas de como crees que es posible avanzar en el estudio del problema. Ten en cuenta incluso posibles variaciones del problema y/o variaciones al alza del tamaño"
      ]
    },
    {
      "cell_type": "markdown",
      "metadata": {
        "id": "IE0uZmo-tZu-"
      },
      "source": [
        "Para avanzar en el estudio del problema y considerar variaciones y aumentos en su tamaño, propongo:\n",
        "\n",
        "1. Optimización Avanzada: Utilizar algoritmos como búsqueda local o algoritmos genéticos para mejorar la eficiencia en la búsqueda de soluciones óptimas.\n",
        "\n",
        "2. Computación Distribuida: Implementar el problema en entornos distribuidos para manejar grandes volúmenes de datos de manera más eficiente.\n",
        "\n",
        "3. Análisis Detallado: Realizar un análisis exhaustivo de la complejidad temporal y espacial de los algoritmos, especialmente con problemas de mayor escala.\n",
        "\n",
        "4. Variantes y Restricciones: Explorar variantes del problema, como permitir repeticiones o introducir restricciones adicionales para mayor diversidad de soluciones.\n",
        "\n",
        "Estas estrategias permitirían abordar el problema desde diferentes perspectivas, mejorando tanto la eficiencia computacional como la capacidad de resolver desafíos más complejos y variados."
      ]
    }
  ],
  "metadata": {
    "colab": {
      "provenance": []
    },
    "kernelspec": {
      "display_name": "Python 3",
      "name": "python3"
    },
    "language_info": {
      "codemirror_mode": {
        "name": "ipython",
        "version": 3
      },
      "file_extension": ".py",
      "mimetype": "text/x-python",
      "name": "python",
      "nbconvert_exporter": "python",
      "pygments_lexer": "ipython3",
      "version": "3.10.12"
    }
  },
  "nbformat": 4,
  "nbformat_minor": 0
}