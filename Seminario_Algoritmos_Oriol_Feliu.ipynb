{
  "cells": [
    {
      "cell_type": "markdown",
      "metadata": {
        "id": "hVbXYX-RfPWh"
      },
      "source": [
        "# Algoritmos de optimización - Seminario<br>\n",
        "Oriol Feliu Juárez:   <br>\n",
        "Url: https://github.com/OriolFeliu/03MAIR---Algoritmos-de-Optimizacion---2019/tree/master/SEMINARIO<br>\n",
        "Problema:\n",
        ">1. Sesiones de doblaje <br>\n",
        ">2. Organizar los horarios de partidos de La Liga<br>\n",
        ">3. Combinar cifras y operaciones\n",
        "\n",
        "Descripción del problema:\n",
        "\n",
        "• El problema consiste en analizar el siguiente problema y diseñar un algoritmo que lo resuelva.\n",
        "\n",
        "• Disponemos de las 9 cifras del 1 al 9 (excluimos el cero) y de los 4 signos básicos de las operaciones fundamentales: suma(+), resta(-), multiplicación(*) y división(/)\n",
        "\n",
        "• Debemos combinarlos alternativamente sin repetir ninguno de ellos para obtener una\n",
        "cantidad dada. Un ejemplo sería para obtener el 4:\n",
        "\n",
        "**4+2-6/3·1 = 4**\n",
        "\n",
        "• Debe analizarse el problema para encontrar todos los valores enteros posibles planteando las\n",
        "siguientes cuestiones:\n",
        "\n",
        "- ¿Qué valor máximo y mínimo se pueden obtener según las condiciones del problema?\n",
        "- ¿Es posible encontrar todos los valores enteros posibles entre dicho mínimo y máximo?\n",
        "\n",
        "• Nota: Es posible usar la función de python “eval” para evaluar una expresión\n",
        "\n",
        "\n",
        "\n",
        "(*) La respuesta es obligatoria\n",
        "\n",
        "\n",
        "\n",
        "\n",
        "\n",
        "                                        "
      ]
    },
    {
      "cell_type": "markdown",
      "metadata": {
        "id": "3_-exlrTgLd-"
      },
      "source": [
        "¿Cuantas posibilidades hay sin tener en cuenta las restricciones?<br>\n",
        "\n",
        "\n",
        "¿Cuantas posibilidades hay teniendo en cuenta todas las restricciones.\n",
        "\n"
      ]
    },
    {
      "cell_type": "markdown",
      "metadata": {},
      "source": [
        "Sin tener en cuenta las restricciones, el número total de posibilidades es $9⁵ · 4⁴ = 15116544$, porque se tienen 9 números diferentes que ocupan 5 posiciones en la expresión y 4 operandos diferentes en 4 posiciones.\n",
        "\n",
        "Teniendo en cuenta las restricciones: los números y los operadores no se pueden repetir, el número posible de combinaciones numéricas es $\\frac{9!}{4!}$ y el número de combinaciones posibles con los operadores es ${4!}$. Por lo tanto, el número total de operaciones posibles es $\\frac{9!}{4!} · {4!} = {9!} = 362880$.\n"
      ]
    },
    {
      "cell_type": "code",
      "execution_count": 29,
      "metadata": {},
      "outputs": [],
      "source": [
        "numbers = {'1', '2', '3', '4', '5', '6', '7', '8', '9'}\n",
        "operators = {'+', '-', '/', '*'}\n",
        "\n",
        "counter = 0\n",
        "results = []\n",
        "results_int = []\n",
        "\n",
        "for n0 in numbers:\n",
        "    for n1 in numbers - {n0}:\n",
        "        for n2 in numbers - {n0, n1}:\n",
        "            for n3 in numbers - {n0, n1, n2}:\n",
        "                for n4 in numbers - {n0, n1, n2, n3}:\n",
        "                    for o0 in operators:\n",
        "                        for o1 in operators - {o0}:\n",
        "                            for o2 in operators - {o0, o1}:\n",
        "                                for o3 in operators - {o0, o1, o2}:\n",
        "                                    expression = n0 + o0 + n1 + o1 + n2 + o2 + n3 + o3 + n4\n",
        "                                    result = eval(expression)\n",
        "\n",
        "                                    counter += 1\n",
        "                                    results.append(result)\n",
        "                                    if result == int(result):\n",
        "                                        results_int.append(result)"
      ]
    },
    {
      "cell_type": "code",
      "execution_count": 31,
      "metadata": {},
      "outputs": [
        {
          "name": "stdout",
          "output_type": "stream",
          "text": [
            "Total expressions found: 362880\n",
            "Max value float: 78.83333333333333\n",
            "Min  float: -70.71428571428571\n",
            "Max value int: 77.0\n",
            "Min  int: -69.0\n"
          ]
        }
      ],
      "source": [
        "print(f'Total expressions found: {counter}')\n",
        "print(f'Max value float: {max(results)}')\n",
        "print(f'Min  float: {min(results)}')\n",
        "print(f'Max value int: {max(results_int)}')\n",
        "print(f'Min  int: {min(results_int)}')"
      ]
    },
    {
      "cell_type": "markdown",
      "metadata": {},
      "source": [
        "Con el código anterior se puede observar que se cumple que hay 362880 expresiones posibles, el número máximo no decimal que se puede obtener es 77 y el mínimo es -69."
      ]
    },
    {
      "cell_type": "code",
      "execution_count": 53,
      "metadata": {},
      "outputs": [
        {
          "data": {
            "text/plain": [
              "[]"
            ]
          },
          "execution_count": 53,
          "metadata": {},
          "output_type": "execute_result"
        }
      ],
      "source": [
        "possible_numbers = sorted(list(set(results_int)))\n",
        "all_values = list(range(-69, 78))\n",
        "\n",
        "list(set(all_values) - set(possible_numbers))"
      ]
    },
    {
      "cell_type": "markdown",
      "metadata": {},
      "source": [
        "Se pueden encontrar todos los valores como expresión entre -69 y 77 inclusive."
      ]
    },
    {
      "cell_type": "markdown",
      "metadata": {
        "id": "dzynfVJahHoY"
      },
      "source": [
        "## Modelo para el espacio de soluciones<br>\n",
        "¿Cual es la estructura de datos que mejor se adapta al problema? Argumentalo. (Es posible que hayas elegido una al principio y veas la necesidad de cambiar, arguentalo)"
      ]
    },
    {
      "cell_type": "markdown",
      "metadata": {
        "id": "xFIJrOwKi2Ti"
      },
      "source": [
        "Antes de implementar el código, considero que la mejor estructura de datos será una lista o un numpy array. Este último será más eficiente si no es necesario modificar el tamaño de los arrays.\n",
        "\n",
        "Después de implementar el coóigo, la mejor estructura de datos es el set, que permite restar dos sets y evitar recorrer el listado original de números y operadores."
      ]
    },
    {
      "cell_type": "markdown",
      "metadata": {
        "id": "7Z9U2W7bi-XS"
      },
      "source": [
        "Según el modelo para el espacio de soluciones<br>\n",
        "(*)¿Cual es la función objetivo?\n",
        "\n",
        "(*)¿Es un problema de maximización o minimización?"
      ]
    },
    {
      "cell_type": "markdown",
      "metadata": {
        "id": "hBalWLM7j1_d"
      },
      "source": [
        "### Función Objetivo\n",
        "\n",
        "El objetivo del algoritmo es encontrar una expresión matemática formada por las cifras y operadores dados que minimice la diferencia entre el resultado de la expresión y un número objetivo predeterminado. Esto se logra explorando el espacio de soluciones y seleccionando las expresiones con menor error respecto al objetivo.\n",
        "\n",
        "### Maximización o Minimización\n",
        "\n",
        "Este problema se aborda como un problema de minimización. El algoritmo busca reducir al máximo el error entre el resultado de la expresión matemática generada y el número objetivo. Por lo tanto, el criterio de optimización se basa en minimizar esta diferencia, hasta que el error sea cero o lo más cercano posible."
      ]
    },
    {
      "cell_type": "markdown",
      "metadata": {
        "id": "rlnTYgY1j6I2"
      },
      "source": [
        "Diseña un algoritmo para resolver el problema por fuerza bruta"
      ]
    },
    {
      "cell_type": "code",
      "execution_count": 6,
      "metadata": {
        "id": "CJb5sQ0qkENy"
      },
      "outputs": [
        {
          "name": "stdout",
          "output_type": "stream",
          "text": [
            "El numero -69 se puede expresar como 6/3-9*8+1\n",
            "El numero -63 se puede expresar como 7+6/3-9*8\n",
            "El numero -57 se puede expresar como 6/3-7*9+4\n",
            "El numero -51 se puede expresar como 3-7*8+2/1\n",
            "El numero -45 se puede expresar como 7-6*9+8/4\n",
            "El numero -39 se puede expresar como 7-6*9+8/1\n",
            "El numero -33 se puede expresar como 5-7*6+8/2\n",
            "El numero -27 se puede expresar como 7-5*8+6/1\n",
            "El numero -21 se puede expresar como 7-5*6+8/4\n",
            "El numero -15 se puede expresar como 7+5-6*9/2\n",
            "El numero -9 se puede expresar como 7-5*8/2+4\n",
            "El numero -3 se puede expresar como 7-6/3*9+8\n",
            "El numero 3 se puede expresar como 7+5-6*3/2\n",
            "El numero 9 se puede expresar como 7+5*6/3-8\n",
            "El numero 15 se puede expresar como 7+5*6/3-2\n",
            "El numero 21 se puede expresar como 7+5*6/2-1\n",
            "El numero 27 se puede expresar como 7+6*8/2-4\n",
            "El numero 33 se puede expresar como 7*5+6/3-4\n",
            "El numero 39 se puede expresar como 7*5+6-8/4\n",
            "El numero 45 se puede expresar como 7+5*8-6/3\n",
            "El numero 51 se puede expresar como 7+6*8/1-4\n",
            "El numero 57 se puede expresar como 7+6*9-8/2\n",
            "El numero 63 se puede expresar como 7*9-6/3+2\n",
            "El numero 69 se puede expresar como 7*9-6/3+8\n",
            "El numero 75 se puede expresar como 7+9*8/1-4\n"
          ]
        }
      ],
      "source": [
        "import random\n",
        "\n",
        "\n",
        "def find_expression_brute_force(target_number):\n",
        "    numbers = {'1', '2', '3', '4', '5', '6', '7', '8', '9'}\n",
        "    operators = {'+', '-', '/', '*'}\n",
        "\n",
        "    for n0 in numbers:\n",
        "        for n1 in numbers - {n0}:\n",
        "            for n2 in numbers - {n0, n1}:\n",
        "                for n3 in numbers - {n0, n1, n2}:\n",
        "                    for n4 in numbers - {n0, n1, n2, n3}:\n",
        "                        for o0 in operators:\n",
        "                            for o1 in operators - {o0}:\n",
        "                                for o2 in operators - {o0, o1}:\n",
        "                                    for o3 in operators - {o0, o1, o2}:\n",
        "                                        expression = n0 + o0 + n1 + o1 + n2 + o2 + n3 + o3 + n4\n",
        "                                        result = eval(expression)\n",
        "                                        if result == target_number:\n",
        "                                            return expression, result\n",
        "\n",
        "    return None\n",
        "\n",
        "\n",
        "# target_number = random.randint(-69, 77)\n",
        "# find_expression_brute_force(target_number)\n",
        "\n",
        "for target_number in range (-69, 77, 6):\n",
        "    res = find_expression_brute_force(target_number)\n",
        "    print(f'El numero {int(res[1])} se puede expresar como {res[0]}')"
      ]
    },
    {
      "cell_type": "markdown",
      "metadata": {},
      "source": [
        "Se imprimen las expresiones de 6 en 6 para que se puedan ver en el documento PDF."
      ]
    },
    {
      "cell_type": "code",
      "execution_count": 47,
      "metadata": {},
      "outputs": [
        {
          "name": "stdout",
          "output_type": "stream",
          "text": [
            "8.42 s ± 517 ms per loop (mean ± std. dev. of 7 runs, 1 loop each)\n"
          ]
        }
      ],
      "source": [
        "%%timeit\n",
        "for i in range (-69, 77):\n",
        "    find_expression_brute_force(i)"
      ]
    },
    {
      "cell_type": "markdown",
      "metadata": {
        "id": "tgrnsC2nkFa8"
      },
      "source": [
        "## Complejidad del algoritmo por fuerza bruta"
      ]
    },
    {
      "cell_type": "markdown",
      "metadata": {},
      "source": [
        "Si se considera como n la cantidad de cifras diferentes que se tienen, en este caso 9, y m como el numero de operadores totales, en este caso 4, y se sabe que en el peor caso este algoritmo tarda $\\frac{n!}{4!} · {m!} = 362880$, entonces se sabe que la complejidad es O($\\frac{n!}{4!} · {m!}$), que de forma general se puede expresar como una complejidad factorial O(${n!}$)."
      ]
    },
    {
      "cell_type": "markdown",
      "metadata": {
        "id": "txbrmLmskReM"
      },
      "source": [
        "(*)Diseña un algoritmo que mejore la complejidad del algortimo por fuerza bruta. Argumenta porque crees que mejora el algoritmo por fuerza bruta"
      ]
    },
    {
      "cell_type": "markdown",
      "metadata": {},
      "source": [
        "#### Algoritmo genético"
      ]
    },
    {
      "cell_type": "code",
      "execution_count": 159,
      "metadata": {},
      "outputs": [],
      "source": [
        "import random\n",
        "\n",
        "\n",
        "def create_population(size_population):\n",
        "    numbers = ['1', '2', '3', '4', '5', '6', '7', '8', '9']\n",
        "    operators = ['+', '-', '/', '*']\n",
        "    population = []\n",
        "\n",
        "    for _ in range(size_population):\n",
        "        individual_numbers = random.sample(numbers, 5)\n",
        "        individual_operators = random.sample(operators, 4)\n",
        "\n",
        "        individual_expression = individual_numbers[0] + individual_operators[0] + \\\n",
        "            individual_numbers[1] + individual_operators[1] + \\\n",
        "            individual_numbers[2] + individual_operators[2] + \\\n",
        "            individual_numbers[3] + individual_operators[3] + \\\n",
        "            individual_numbers[4]\n",
        "\n",
        "        population.append(individual_expression)\n",
        "\n",
        "    return population\n",
        "\n",
        "\n",
        "def sort_population_by_error(population, target_number):\n",
        "    errors = []\n",
        "    for individual_expression in population:\n",
        "        result = eval(individual_expression)\n",
        "        error = abs(target_number - result)\n",
        "        errors.append(error)\n",
        "\n",
        "    index_to_value = {i: errors[i] for i in range(len(errors))}\n",
        "\n",
        "    sorted_population = sorted(\n",
        "        population, key=lambda ind: index_to_value[population.index(ind)])\n",
        "\n",
        "    return sorted_population\n",
        "\n",
        "\n",
        "def select_parents(population, n_parents):\n",
        "    return population[:n_parents]\n",
        "\n",
        "\n",
        "def cross(parents):\n",
        "    numbers = ['1', '2', '3', '4', '5', '6', '7', '8', '9']\n",
        "    operators = ['+', '-', '/', '*']\n",
        "    is_number = True\n",
        "    child = ''\n",
        "    random_num_or_op = ''\n",
        "    for i in range(len(parents[0])):\n",
        "        num_or_ops = [parent[i] for parent in parents]\n",
        "        while True:\n",
        "            try:\n",
        "                random_num_or_op = random.choice(num_or_ops)\n",
        "            except:  # Caso especial en el que no se encuentre un valor unico entre los padres, se selecciona un elemento aleatorio que no se encuentre en los padres\n",
        "                list_aux = numbers.copy() if i % 2 == 0 else operators.copy()\n",
        "                while True:\n",
        "                    random_num_or_op = random.choice(list_aux)\n",
        "                    if random_num_or_op in child:\n",
        "                        list_aux.remove(random_num_or_op)\n",
        "                    else:\n",
        "                        break\n",
        "\n",
        "            if random_num_or_op in child:\n",
        "\n",
        "                num_or_ops.remove(random_num_or_op)\n",
        "\n",
        "            else:\n",
        "                child += random_num_or_op\n",
        "                break\n",
        "\n",
        "        is_number = not is_number\n",
        "\n",
        "    return child\n",
        "\n",
        "\n",
        "def mutate(child):\n",
        "    numbers = ['1', '2', '3', '4', '5', '6', '7', '8', '9']\n",
        "\n",
        "    idx = random.choice([0, 2, 4, 6, 8])\n",
        "\n",
        "    for i in range(0, 9, 2):\n",
        "        if child[i] in numbers:\n",
        "            numbers.remove(child[i])\n",
        "    random_num_or_op = random.choice(numbers)\n",
        "    child = child[:idx] + random_num_or_op + child[idx+1:]\n",
        "\n",
        "    return child\n",
        "\n",
        "\n",
        "def next_generation(population, target_number):\n",
        "    new_gen = []\n",
        "    sorted_population = sort_population_by_error(population, target_number)\n",
        "    n_parents = 10\n",
        "    parents = select_parents(sorted_population, n_parents)\n",
        "    for _ in range(len(population)):\n",
        "        parents = select_parents(sorted_population, n_parents)\n",
        "        child = cross(parents)\n",
        "\n",
        "        if eval(child) != target_number:\n",
        "            child = mutate(child)\n",
        "\n",
        "        new_gen.append(child)\n",
        "\n",
        "    return new_gen\n",
        "\n",
        "\n",
        "def find_expression_genetic_search(target_number):\n",
        "    population_size = 1000\n",
        "    generations = 150\n",
        "    population = create_population(population_size)\n",
        "\n",
        "    for _ in range(generations):\n",
        "        population = next_generation(population, target_number)\n",
        "\n",
        "        for expression in population:\n",
        "            result = eval(expression)\n",
        "            if result == target_number:\n",
        "                return expression, result\n",
        "\n",
        "    return None"
      ]
    },
    {
      "cell_type": "code",
      "execution_count": 165,
      "metadata": {},
      "outputs": [
        {
          "name": "stdout",
          "output_type": "stream",
          "text": [
            "El numero -69 se puede expresar como 1-8*9+4/2\n",
            "El numero -63 se puede expresar como 4-9*8+5/1\n",
            "El numero -57 se puede expresar como 2+4-9*7/1\n",
            "El numero -51 se puede expresar como 3/1-8*7+2\n",
            "El numero -45 se puede expresar como 5+8/2-6*9\n",
            "El numero -39 se puede expresar como 4/1-8*6+5\n",
            "El numero -33 se puede expresar como 3-5*8/1+4\n",
            "El numero -27 se puede expresar como 6/1+2-5*7\n",
            "El numero -21 se puede expresar como 7+8/4-6*5\n",
            "El numero -15 se puede expresar como 7/1+2-6*4\n",
            "El numero -9 se puede expresar como 4+9/3-8*2\n",
            "El numero -3 se puede expresar como 4-2*8/1+9\n",
            "El numero 3 se puede expresar como 1-3*6/9+4\n",
            "El numero 9 se puede expresar como 8*6/3-9+2\n",
            "El numero 15 se puede expresar como 3/1*6-5+2\n",
            "El numero 21 se puede expresar como 2-9+4/1*7\n",
            "El numero 27 se puede expresar como 8*4/1+2-7\n",
            "El numero 33 se puede expresar como 6+7*5-8/1\n",
            "El numero 39 se puede expresar como 9*5+6/3-8\n",
            "El numero 45 se puede expresar como 2+5*9-6/3\n",
            "El numero 51 se puede expresar como 6*9/1-5+2\n",
            "El numero 57 se puede expresar como 6*9-8/2+7\n",
            "El numero 63 se puede expresar como 9*7-3+6/2\n",
            "El numero 69 se puede expresar como 9*7/1+8-2\n",
            "El numero 75 se puede expresar como 9/1*8+7-4\n"
          ]
        }
      ],
      "source": [
        "for target_number in range (-69, 77, 6):\n",
        "    res = find_expression_genetic_search(target_number)\n",
        "    print(f'El numero {int(res[1])} se puede expresar como {res[0]}')"
      ]
    },
    {
      "cell_type": "code",
      "execution_count": 169,
      "metadata": {},
      "outputs": [
        {
          "name": "stdout",
          "output_type": "stream",
          "text": [
            "7.83 s ± 2.94 s per loop (mean ± std. dev. of 7 runs, 1 loop each)\n"
          ]
        }
      ],
      "source": [
        "%%timeit\n",
        "for target_number in range (-69, 77):\n",
        "    find_expression_genetic_search(target_number)"
      ]
    },
    {
      "cell_type": "markdown",
      "metadata": {
        "id": "eGDB4K6uk1iN"
      },
      "source": [
        "(*)Calcula la complejidad del algoritmo"
      ]
    },
    {
      "cell_type": "markdown",
      "metadata": {
        "id": "NhpTh_BPk1ms"
      },
      "source": [
        "La complejidad temporal de un algoritmo genético depende de varios factores clave:\n",
        "\n",
        "P: Tamaño de la población.\n",
        "G: Número de generaciones.\n",
        "F(n): Complejidad de la función de aptitud.\n",
        "La complejidad general del algoritmo genético es O(G · P · F(n)). Para casos donde se ordenan los padres, la complejidad de la ordenación es O(P² · log P), lo que da una complejidad final de O(G · (P · F(n) + P² · log P)).\n",
        "\n",
        "Si bien este enfoque es en muchos casos más eficiente que un algoritmo de fuerza bruta con complejidad O(n!), es importante destacar que el rendimiento del algoritmo genético depende críticamente del número de generaciones G. Si G crece significativamente, la ventaja sobre el enfoque de fuerza bruta puede disminuir. En escenarios con un número muy grande de generaciones, el algoritmo genético podría acercarse en rendimiento a O(n!), especialmente en problemas donde el espacio de búsqueda es grande y se requiere evolucionar muchas generaciones para llegar a una solución adecuada.\n",
        "\n",
        "Opté por un enfoque heurístico como el algoritmo genético en lugar de una solución determinista por varias razones:\n",
        "\n",
        "1. Escalabilidad: Aunque el problema parece pequeño, al aumentar las restricciones o complejidad, una búsqueda exhaustiva sería demasiado costosa. Los algoritmos genéticos son más eficientes en estos casos.\n",
        "\n",
        "2. Soluciones aceptables: Un algoritmo heurístico puede encontrar soluciones cercanas al óptimo de manera más rápida sin necesidad de evaluar todas las combinaciones.\n",
        "\n",
        "3. Exploración del espacio de búsqueda: Los algoritmos genéticos evitan estancarse en soluciones subóptimas, explorando el espacio de soluciones de forma más amplia y eficiente.\n",
        "\n",
        "Estas ventajas compensan las limitaciones inherentes a los algoritmos heurísticos."
      ]
    },
    {
      "cell_type": "markdown",
      "metadata": {
        "id": "3M6QjTsSkmYe"
      },
      "source": [
        "#### Según el problema (y tenga sentido), diseña un juego de datos de entrada aleatorios"
      ]
    },
    {
      "cell_type": "markdown",
      "metadata": {},
      "source": [
        "Las partes que podrían ser aleatorias son el valor resultante de la expresión y los números y operadores que se usarán en la expresión. Se utiliza la biblioteca random de Python para generar estos valores, especificando manualmente el rango y la cantidad de valores deseados."
      ]
    },
    {
      "cell_type": "code",
      "execution_count": 224,
      "metadata": {
        "id": "sJ-N2etjkyWc"
      },
      "outputs": [
        {
          "name": "stdout",
          "output_type": "stream",
          "text": [
            "16\n",
            "{'20', '13', '2', '4', '6', '1', '7', '9', '10', '18'}\n",
            "{'+', '/', '*', '**'}\n"
          ]
        }
      ],
      "source": [
        "target_number = random.randint(-69, 77)\n",
        "\n",
        "min_num = 1\n",
        "max_num = 20\n",
        "all_numbers = list(range(min_num, max_num + 1))\n",
        "all_numbers = [str(num) for num in all_numbers]\n",
        "amount_of_num = 10\n",
        "numbers = set(random.sample(all_numbers, amount_of_num))\n",
        "\n",
        "all_operators = ['+', '-', '/', '*', '**']\n",
        "amount_of_op = 4\n",
        "operators = set(random.sample(all_operators, amount_of_op))\n",
        "\n",
        "print(target_number)\n",
        "print(numbers)\n",
        "print(operators)"
      ]
    },
    {
      "cell_type": "markdown",
      "metadata": {
        "id": "zy5ZROmjlGo1"
      },
      "source": [
        "Aplica el algoritmo al juego de datos generado"
      ]
    },
    {
      "cell_type": "code",
      "execution_count": 225,
      "metadata": {},
      "outputs": [
        {
          "data": {
            "text/plain": [
              "('20*2/4+6**1', 16.0)"
            ]
          },
          "execution_count": 225,
          "metadata": {},
          "output_type": "execute_result"
        }
      ],
      "source": [
        "def find_expression_brute_force(numbers, operators, target_number):\n",
        "    for n0 in numbers:\n",
        "        for n1 in numbers - {n0}:\n",
        "            for n2 in numbers - {n0, n1}:\n",
        "                for n3 in numbers - {n0, n1, n2}:\n",
        "                    for n4 in numbers - {n0, n1, n2, n3}:\n",
        "                        for o0 in operators:\n",
        "                            for o1 in operators - {o0}:\n",
        "                                for o2 in operators - {o0, o1}:\n",
        "                                    for o3 in operators - {o0, o1, o2}:\n",
        "                                        expression = n0 + o0 + n1 + o1 + n2 + o2 + n3 + o3 + n4\n",
        "                                        result = eval(expression)\n",
        "                                        if result == target_number:\n",
        "                                            return expression, result\n",
        "\n",
        "    return None\n",
        "\n",
        "find_expression_brute_force(numbers, operators, target_number)"
      ]
    },
    {
      "cell_type": "markdown",
      "metadata": {
        "id": "kAkDPUyRtYyH"
      },
      "source": [
        "Describe brevemente las lineas de como crees que es posible avanzar en el estudio del problema. Ten en cuenta incluso posibles variaciones del problema y/o variaciones al alza del tamaño"
      ]
    },
    {
      "cell_type": "markdown",
      "metadata": {
        "id": "IE0uZmo-tZu-"
      },
      "source": [
        "Para avanzar en el estudio del problema y considerar variaciones y aumentos en su tamaño, propongo:\n",
        "\n",
        "1. Optimización Avanzada: Utilizar algoritmos como búsqueda local o algoritmos genéticos para mejorar la eficiencia en la búsqueda de soluciones óptimas.\n",
        "\n",
        "2. Computación Distribuida: Implementar el problema en entornos distribuidos para manejar grandes volúmenes de datos de manera más eficiente.\n",
        "\n",
        "3. Análisis Detallado: Realizar un análisis exhaustivo de la complejidad temporal y espacial de los algoritmos, especialmente con problemas de mayor escala.\n",
        "\n",
        "4. Variantes y Restricciones: Explorar variantes del problema, como permitir repeticiones o introducir restricciones adicionales para mayor diversidad de soluciones.\n",
        "\n",
        "Estas estrategias permitirían abordar el problema desde diferentes perspectivas, mejorando tanto la eficiencia computacional como la capacidad de resolver desafíos más complejos y variados."
      ]
    }
  ],
  "metadata": {
    "colab": {
      "provenance": []
    },
    "kernelspec": {
      "display_name": "Python 3",
      "name": "python3"
    },
    "language_info": {
      "codemirror_mode": {
        "name": "ipython",
        "version": 3
      },
      "file_extension": ".py",
      "mimetype": "text/x-python",
      "name": "python",
      "nbconvert_exporter": "python",
      "pygments_lexer": "ipython3",
      "version": "3.10.12"
    }
  },
  "nbformat": 4,
  "nbformat_minor": 0
}
