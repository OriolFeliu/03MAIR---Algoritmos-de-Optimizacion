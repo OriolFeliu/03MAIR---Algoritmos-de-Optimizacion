{
  "cells": [
    {
      "cell_type": "markdown",
      "metadata": {
        "id": "GG2D6vLdYwwy"
      },
      "source": [
        "Actividad Guiada 1 de Algoritmos de Optimizacion\n",
        "\n",
        "Nombre: Oriol Feliu Juárez\n",
        "\n",
        "https://colab.research.google.com/drive/1gHLikWE6qIctxZhpVK6k2XN2RVwm7unc?usp=sharing\n",
        "\n",
        "https://github.com/OriolFeliu/03MAIR---Algoritmos-de-Optimizacion"
      ]
    },
    {
      "cell_type": "code",
      "execution_count": null,
      "metadata": {
        "colab": {
          "background_save": true
        },
        "id": "rTiqLuX2ZKuL"
      },
      "outputs": [],
      "source": [
        "#Torres de Hanoi - Divide y venceras\n",
        "################################################################################\n",
        "\n",
        "\n",
        "################################################################\n",
        "def Torres_Hanoi(N, desde, hasta):\n",
        "  #N - Nº de fichas\n",
        "  #desde - torre inicial\n",
        "  #hasta - torre fina\n",
        "  if N==1:\n",
        "    print(\"Lleva la ficha desde \" + str(desde) + \" hasta \" + str(hasta))\n",
        "\n",
        "  else:\n",
        "    Torres_Hanoi(N-1, desde, 6-desde-hasta)\n",
        "    print(\"Lleva la ficha desde \" + str(desde) + \" hasta \" + str(hasta))\n",
        "    Torres_Hanoi(N-1, 6-desde-hasta,  hasta)\n",
        "\n",
        "Torres_Hanoi(3, 1, 3)\n",
        "################################################################"
      ]
    },
    {
      "cell_type": "code",
      "execution_count": null,
      "metadata": {
        "id": "UTL6wiczQVDA"
      },
      "outputs": [],
      "source": []
    },
    {
      "cell_type": "code",
      "execution_count": null,
      "metadata": {
        "id": "YwBudj2hYoMR"
      },
      "outputs": [],
      "source": [
        "#Cambio de monedas - Técnica voraz\n",
        "################################################################################\n",
        "SISTEMA = [11, 5, 1]\n",
        "################################################################\n",
        "def cambio_monedas(CANTIDAD,SISTEMA):\n",
        "#....\n",
        "  SOLUCION = [0]*len(SISTEMA)\n",
        "  ValorAcumulado = 0\n",
        "\n",
        "  for i,valor in enumerate(SISTEMA):\n",
        "    monedas = (CANTIDAD-ValorAcumulado)//valor\n",
        "    SOLUCION[i] = monedas\n",
        "    ValorAcumulado = ValorAcumulado + monedas*valor\n",
        "\n",
        "    if CANTIDAD == ValorAcumulado:\n",
        "      return SOLUCION\n",
        "\n",
        "  print(\"No es posible encontrar solucion\")\n",
        "\n",
        "cambio_monedas(15,SISTEMA)\n",
        "\n",
        "\n",
        "################################################################"
      ]
    },
    {
      "cell_type": "code",
      "execution_count": null,
      "metadata": {
        "id": "9toJ4WjhQUNj"
      },
      "outputs": [],
      "source": []
    },
    {
      "cell_type": "code",
      "execution_count": null,
      "metadata": {
        "id": "H4Iwt2XRZTFr"
      },
      "outputs": [],
      "source": [
        "#N Reinas - Vuelta Atrás()\n",
        "################################################################################\n",
        "\n",
        "#Verifica que en la solución parcial no hay amenzas entre reinas\n",
        "################################################################\n",
        "def es_prometedora(SOLUCION,etapa):\n",
        "################################################################\n",
        "  #print(SOLUCION)\n",
        "  #Si la solución tiene dos valores iguales no es valida => Dos reinas en la misma fila\n",
        "  for i in range(etapa+1):\n",
        "    #print(\"El valor \" + str(SOLUCION[i]) + \" está \" +  str(SOLUCION.count(SOLUCION[i])) + \" veces\")\n",
        "    if SOLUCION.count(SOLUCION[i]) > 1:\n",
        "      return False\n",
        "\n",
        "    #Verifica las diagonales\n",
        "    for j in range(i+1, etapa +1 ):\n",
        "      #print(\"Comprobando diagonal de \" + str(i) + \" y \" + str(j))\n",
        "      if abs(i-j) == abs(SOLUCION[i]-SOLUCION[j]) : return False\n",
        "  return True\n",
        "\n",
        "#Traduce la solución al tablero\n",
        "################################################################\n",
        "def escribe_solucion(S):\n",
        "################################################################\n",
        "  n = len(S)\n",
        "  for x in range(n):\n",
        "    print(\"\")\n",
        "    for i in range(n):\n",
        "      if S[i] == x+1:\n",
        "        print(\" X \" , end=\"\")\n",
        "      else:\n",
        "        print(\" - \", end=\"\")\n",
        "\n",
        "\n",
        "\n",
        "#Proceso principal de N-Reinas\n",
        "################################################################\n",
        "def reinas(N, solucion=[],etapa=0):\n",
        "################################################################\n",
        "### ....\n",
        "  if len(solucion) == 0:         # [0,0,0...]\n",
        "    solucion = [0 for i in range(N) ]\n",
        "\n",
        "  for i in range(1, N+1):\n",
        "    solucion[etapa] = i\n",
        "    if es_prometedora(solucion, etapa):\n",
        "      if etapa == N-1:\n",
        "        print(solucion)\n",
        "      else:\n",
        "        reinas(N, solucion, etapa+1)\n",
        "    else:\n",
        "      None\n",
        "\n",
        "  solucion[etapa] = 0\n",
        "\n",
        "reinas(8,solucion=[],etapa=0)"
      ]
    },
    {
      "cell_type": "code",
      "execution_count": null,
      "metadata": {
        "id": "eTZclKH9QV0R"
      },
      "outputs": [],
      "source": [
        "escribe_solucion([1, 5, 8, 6, 3, 7, 2, 4])"
      ]
    },
    {
      "cell_type": "code",
      "execution_count": null,
      "metadata": {
        "id": "TocxR55dQWq5"
      },
      "outputs": [],
      "source": [
        "#Viaje por el rio - Programación dinámica\n",
        "################################################################################\n",
        "\n",
        "TARIFAS = [\n",
        "[0,5,4,3,999,999,999],\n",
        "[999,0,999,2,3,999,11],\n",
        "[999,999, 0,1,999,4,10],\n",
        "[999,999,999, 0,5,6,9],\n",
        "[999,999, 999,999,0,999,4],\n",
        "[999,999, 999,999,999,0,3],\n",
        "[999,999,999,999,999,999,0]\n",
        "]\n",
        "\n",
        "#999 se puede sustituir por float(\"inf\")\n",
        "\n",
        "\n",
        "#Calculo de la matriz de PRECIOS y RUTAS\n",
        "################################################################\n",
        "def Precios(TARIFAS):\n",
        "################################################################\n",
        "  #Total de Nodos\n",
        "  N = len(TARIFAS[0])\n",
        "\n",
        "  #Inicialización de la tabla de precios\n",
        "  PRECIOS = [ [9999]*N for i in [9999]*N]\n",
        "  RUTA = [ [\"\"]*N for i in [\"\"]*N]\n",
        "\n",
        "  for i in range(0,N-1):\n",
        "    RUTA[i][i] = i             #Para ir de i a i se \"pasa por i\"\n",
        "    PRECIOS[i][i] = 0          #Para ir de i a i se se paga 0\n",
        "    for j in range(i+1, N):\n",
        "      MIN = TARIFAS[i][j]\n",
        "      RUTA[i][j] = i\n",
        "\n",
        "      for k in range(i, j):\n",
        "        if PRECIOS[i][k] + TARIFAS[k][j] < MIN:\n",
        "            MIN = min(MIN, PRECIOS[i][k] + TARIFAS[k][j] )\n",
        "            RUTA[i][j] = k          #Anota que para ir de i a j hay que pasar por k\n",
        "        PRECIOS[i][j] = MIN\n",
        "\n",
        "  return PRECIOS,RUTA\n",
        "################################################################\n",
        "\n",
        "PRECIOS,RUTA = Precios(TARIFAS)\n",
        "#print(PRECIOS[0][6])\n",
        "\n",
        "print(\"PRECIOS\")\n",
        "for i in range(len(TARIFAS)):\n",
        "  print(PRECIOS[i])\n",
        "\n",
        "print(\"\\nRUTA\")\n",
        "for i in range(len(TARIFAS)):\n",
        "  print(RUTA[i])\n",
        "\n",
        "#Determinar la ruta con Recursividad\n",
        "def calcular_ruta(RUTA, desde, hasta):\n",
        "  if desde == hasta:\n",
        "    #print(\"Ir a :\" + str(desde))\n",
        "    return \"\"\n",
        "  else:\n",
        "    return str(calcular_ruta( RUTA, desde, RUTA[desde][hasta])) +  \\\n",
        "                ',' + \\\n",
        "                str(RUTA[desde][hasta] \\\n",
        "              )\n",
        "\n",
        "print(\"\\nLa ruta es:\")\n",
        "calcular_ruta(RUTA, 0,6)"
      ]
    },
    {
      "cell_type": "markdown",
      "metadata": {
        "id": "vYMa5quUsQg4"
      },
      "source": [
        "## Práctica individual"
      ]
    },
    {
      "cell_type": "markdown",
      "metadata": {
        "id": "i5IWUvF_sQg4"
      },
      "source": [
        "### 1D\n",
        "#### Fuerza bruta y ordenación"
      ]
    },
    {
      "cell_type": "code",
      "execution_count": null,
      "metadata": {
        "id": "tfvhwYUGsQg4"
      },
      "outputs": [],
      "source": [
        "import numpy as np\n",
        "import math\n",
        "import random\n",
        "\n",
        "LIST_1D = [random.randrange(1, 1000000) for _ in range(100000)]\n",
        "\n",
        "# LIST_1D = np.random.randin\n",
        "# LIST_1D = np.random.randint(1, 10000, size=1000)\n",
        "# LIST_2D = np.random.randint(1, 10000, size=(1000, 2))"
      ]
    },
    {
      "cell_type": "code",
      "execution_count": null,
      "metadata": {
        "id": "qbd8RSzKsQg5"
      },
      "outputs": [],
      "source": [
        "%%timeit\n",
        "def closest_pair_1D_brute_force(points):\n",
        "    min_distance = float('inf')\n",
        "    closest_pair = None\n",
        "\n",
        "    for i in range(len(points)):\n",
        "        for j in range(i + 1, len(points)):\n",
        "            distance = abs(points[i] - points[j])\n",
        "\n",
        "            if distance < min_distance:\n",
        "                min_distance = distance\n",
        "                closest_pair = (points[i], points[j])\n",
        "\n",
        "    return closest_pair, min_distance\n",
        "\n",
        "closest_pair_1D_brute_force(LIST_1D)"
      ]
    },
    {
      "cell_type": "markdown",
      "metadata": {
        "id": "jLLqcv1DsQg5"
      },
      "source": [
        "El algoritmo de fuerza bruta comprueba todas las combinaciones posibles para encontrar la solución, tiene una complejidad O(n²)."
      ]
    },
    {
      "cell_type": "code",
      "execution_count": null,
      "metadata": {
        "id": "xJDHvL9ssQg5"
      },
      "outputs": [],
      "source": [
        "\n",
        "# Sort functions\n",
        "def quick_sort(arr):\n",
        "    if len(arr) <= 1:\n",
        "        return arr\n",
        "\n",
        "    pivot = arr[len(arr) // 2]\n",
        "    left = [x for x in arr if x < pivot]\n",
        "    middle = [x for x in arr if x == pivot]\n",
        "    right = [x for x in arr if x > pivot]\n",
        "\n",
        "    return quick_sort(left) + middle + quick_sort(right)\n",
        "\n",
        "\n",
        "def merge_sort(arr):\n",
        "    if len(arr) <= 1:\n",
        "        return arr\n",
        "\n",
        "    mid = len(arr) // 2\n",
        "    left_half = merge_sort(arr[:mid])\n",
        "    right_half = merge_sort(arr[mid:])\n",
        "\n",
        "    return merge(left_half, right_half)\n",
        "\n",
        "\n",
        "def merge(left, right):\n",
        "    result = []\n",
        "    i = j = 0\n",
        "\n",
        "    while i < len(left) and j < len(right):\n",
        "        if left[i] <= right[j]:\n",
        "            result.append(left[i])\n",
        "            i += 1\n",
        "        else:\n",
        "            result.append(right[j])\n",
        "            j += 1\n",
        "\n",
        "    while i < len(left):\n",
        "        result.append(left[i])\n",
        "        i += 1\n",
        "\n",
        "    while j < len(right):\n",
        "        result.append(right[j])\n",
        "        j += 1\n",
        "\n",
        "    return result\n",
        "\n",
        "\n",
        "def insertion_sort(points):\n",
        "    for i in range(1, len(points)):\n",
        "        key = points[i]\n",
        "        j = i - 1\n",
        "\n",
        "        while j >= 0 and points[j] > key:\n",
        "            points[j + 1] = points[j]\n",
        "            j -= 1\n",
        "\n",
        "        points[j + 1] = key\n",
        "\n",
        "    return points"
      ]
    },
    {
      "cell_type": "code",
      "execution_count": null,
      "metadata": {
        "id": "M3kSOY4rsQg5"
      },
      "outputs": [],
      "source": [
        "def closest_pair_1D(points, sorting_algorithm=sorted):\n",
        "    points = sorting_algorithm(points)\n",
        "\n",
        "    min_distance = float('inf')\n",
        "    closest_pair = None\n",
        "    for i in range(len(points) - 1):\n",
        "        distance = abs(points[i] - points[i + 1])\n",
        "        if distance < min_distance:\n",
        "            min_distance = distance\n",
        "            closest_pair = (points[i], points[i + 1])\n",
        "\n",
        "    return closest_pair, min_distance"
      ]
    },
    {
      "cell_type": "code",
      "execution_count": null,
      "metadata": {
        "id": "Wekgx323sQg5"
      },
      "outputs": [],
      "source": [
        "%%timeit\n",
        "closest_pair_1D(LIST_1D, quick_sort)"
      ]
    },
    {
      "cell_type": "code",
      "execution_count": null,
      "metadata": {
        "id": "-luKce47sQg6"
      },
      "outputs": [],
      "source": [
        "%%timeit\n",
        "closest_pair_1D(LIST_1D, merge_sort)"
      ]
    },
    {
      "cell_type": "code",
      "execution_count": null,
      "metadata": {
        "id": "3Rlf4Vt6sQg6"
      },
      "outputs": [],
      "source": [
        "%%timeit\n",
        "closest_pair_1D(LIST_1D, insertion_sort)"
      ]
    },
    {
      "cell_type": "code",
      "execution_count": null,
      "metadata": {
        "id": "ib814rCUsQg6"
      },
      "outputs": [],
      "source": [
        "%%timeit\n",
        "closest_pair_1D(LIST_1D, sorted)"
      ]
    },
    {
      "cell_type": "markdown",
      "metadata": {
        "id": "ktKWS3lYsQg6"
      },
      "source": [
        "Una manera de mejorar el algoritmo de fuerza bruta es ordenar la lista antes y luego iterarla una vez, comparando todos los pares de puntos que se encuentran juntos. Hay diferentes tipos de ordenación, y en las casillas anteriores se utilizan:\n",
        "\n",
        "- Quick sort: Tiene una complejidad de O(n*log(n)) de promedio, tiene una complejidad de O(n²) en el peor caso.\n",
        "- Merge sort: Tiene una complejidad de O(n*log(n)) en todos los casos.\n",
        "- Insertion sort: Tiene una complejidad promedia de O(n²) y de O(n) en el mejor caso.\n",
        "- Tim sort: Esta ordenación es usada por la funcion de Python list.sort(), que tambien tiene una complejidad promedia de O(n*log(n)) y de O(n) en el mejor caso.\n",
        "\n",
        "Comparando los tiempos con una lista unidimensional de un tamaño de 100,000 elementos, se puede observar que la ordenación más rápida es Timsort de Python, ya que es un algoritmo muy optimizado. Sin tener en cuenta esta función, insertion sort ha mostrado ser el más eficiente, siendo varias veces más rápido que merge o quick sort.\n",
        "\n",
        "Si se aumenta el tamaño de la lista a 1 millón de elementos, tanto QuickSort como Merge Sort logran resultados comparables y son considerablemente más eficientes que Insertion Sort. Esto demuestra que la elección del mejor algoritmo puede depender del tamaño del conjunto de datos y de las características específicas del caso en cuestión."
      ]
    },
    {
      "cell_type": "markdown",
      "metadata": {
        "id": "4QxXEAZysQg7"
      },
      "source": [
        "#### Divide y vencerás"
      ]
    },
    {
      "cell_type": "code",
      "execution_count": null,
      "metadata": {
        "id": "JNCBlTegsQg7"
      },
      "outputs": [],
      "source": [
        "# def closest_pair_1D_divide_and_conquer(points):\n",
        "#     points.sort()\n",
        "#     INF = float('inf')\n",
        "\n",
        "#     def closest_pair_recursive(points):\n",
        "#         if len(points) <= 3:\n",
        "#             return brute_force(points)\n",
        "\n",
        "#         mid = len(points) // 2\n",
        "#         left_half = points[:mid]\n",
        "#         right_half = points[mid:]\n",
        "\n",
        "#         (p1, q1, min_dist1) = closest_pair_recursive(left_half)\n",
        "#         (p2, q2, min_dist2) = closest_pair_recursive(right_half)\n",
        "\n",
        "#         min_dist = min(min_dist1, min_dist2)\n",
        "\n",
        "#         split_result = closest_split_pair(points, min_dist)\n",
        "#         if split_result:\n",
        "#             p3, q3, min_dist3 = split_result\n",
        "#         else:\n",
        "#             p3, q3, min_dist3 = None, None, INF\n",
        "\n",
        "#         if min_dist <= min_dist3:\n",
        "#             if min_dist1 <= min_dist2:\n",
        "#                 return p1, q1, min_dist1\n",
        "#             else:\n",
        "#                 return p2, q2, min_dist2\n",
        "#         else:\n",
        "#             return p3, q3, min_dist3\n",
        "\n",
        "#     def brute_force(points):\n",
        "#         min_distance = INF\n",
        "#         closest_pair = None\n",
        "\n",
        "#         for i in range(len(points)):\n",
        "#             for j in range(i + 1, len(points)):\n",
        "#                 distance = abs(points[i] - points[j])\n",
        "\n",
        "#                 if distance < min_distance:\n",
        "#                     min_distance = distance\n",
        "#                     closest_pair = (points[i], points[j])\n",
        "\n",
        "#         return closest_pair[0], closest_pair[1], min_distance\n",
        "\n",
        "#     def closest_split_pair(points, delta):\n",
        "#         mid_x = points[len(points) // 2]\n",
        "#         strip = [point for point in points if abs(point - mid_x) < delta]\n",
        "\n",
        "#         min_distance = delta\n",
        "#         closest_pair = None\n",
        "#         for i in range(len(strip)):\n",
        "#             for j in range(i + 1, min(i + 7, len(strip))):\n",
        "#                 distance = abs(strip[i] - strip[j])\n",
        "#                 if distance < min_distance:\n",
        "#                     min_distance = distance\n",
        "#                     closest_pair = (strip[i], strip[j])\n",
        "\n",
        "#         if closest_pair:\n",
        "#             return closest_pair[0], closest_pair[1], min_distance\n",
        "#         else:\n",
        "#             return None\n",
        "\n",
        "#     return closest_pair_recursive(points)\n",
        "\n",
        "\n",
        "def closest_pair_1D_divide_and_conquer(points):\n",
        "    points.sort()\n",
        "    INF = float('inf')\n",
        "\n",
        "    def closest_pair_recursive(points):\n",
        "        if len(points) <= 3:\n",
        "            return brute_force(points)\n",
        "\n",
        "        mid = len(points) // 2\n",
        "        left_half = points[:mid]\n",
        "        right_half = points[mid:]\n",
        "\n",
        "        (p1, q1, min_dist1) = closest_pair_recursive(left_half)\n",
        "        (p2, q2, min_dist2) = closest_pair_recursive(right_half)\n",
        "\n",
        "        min_dist = min(min_dist1, min_dist2)\n",
        "\n",
        "        split_result = closest_split_pair(points, min_dist)\n",
        "        if split_result:\n",
        "            p3, q3, min_dist3 = split_result\n",
        "        else:\n",
        "            p3, q3, min_dist3 = None, None, INF\n",
        "\n",
        "        if min_dist <= min_dist3:\n",
        "            if min_dist1 <= min_dist2:\n",
        "                return p1, q1, min_dist1\n",
        "            else:\n",
        "                return p2, q2, min_dist2\n",
        "        else:\n",
        "            return p3, q3, min_dist3\n",
        "\n",
        "    def brute_force(points, min_distance = INF):\n",
        "        closest_pair = (None, None)\n",
        "        for i in range(len(points)):\n",
        "            for j in range(i + 1, len(points)):\n",
        "                distance = abs(points[i] - points[j])\n",
        "\n",
        "                if distance < min_distance:\n",
        "                    min_distance = distance\n",
        "                    closest_pair = (points[i], points[j])\n",
        "\n",
        "        return closest_pair[0], closest_pair[1], min_distance\n",
        "\n",
        "    def closest_split_pair(points, delta):\n",
        "        mid_x = points[len(points) // 2]\n",
        "        strip = [point for point in points if abs(point - mid_x) < delta]\n",
        "\n",
        "        min_distance = delta\n",
        "        closest_pair = None\n",
        "        if strip:\n",
        "            # for i in range(len(strip)):\n",
        "            #     # for j in range(i + 1, min(i + 5, len(strip))): # Limitar a 5 comparaciones\n",
        "            #     for j in range(i + 1, len(strip)):\n",
        "            #         distance = abs(strip[i] - strip[j])\n",
        "            #         if distance < min_distance:\n",
        "            #             min_distance = distance\n",
        "            #             closest_pair = (strip[i], strip[j])\n",
        "            point1, point2, min_distance = brute_force(points, min_distance)\n",
        "            closest_pair = (point1, point2)\n",
        "\n",
        "        if closest_pair:\n",
        "            return closest_pair[0], closest_pair[1], min_distance\n",
        "        else:\n",
        "            return None\n",
        "\n",
        "    return closest_pair_recursive(points)"
      ]
    },
    {
      "cell_type": "code",
      "execution_count": null,
      "metadata": {
        "id": "SRGs6sdBsQg7"
      },
      "outputs": [],
      "source": [
        "closest_pair_1D(LIST_1D, quick_sort)"
      ]
    },
    {
      "cell_type": "code",
      "execution_count": null,
      "metadata": {
        "id": "Rakxqc7IsQg7"
      },
      "outputs": [],
      "source": [
        "closest_pair_1D_divide_and_conquer(LIST_1D)"
      ]
    },
    {
      "cell_type": "code",
      "execution_count": null,
      "metadata": {
        "id": "x3cgRz-hsQg7"
      },
      "outputs": [],
      "source": [
        "%%timeit\n",
        "closest_pair_1D_divide_and_conquer(LIST_1D)"
      ]
    },
    {
      "cell_type": "markdown",
      "metadata": {
        "id": "M9sd7wYDsQg7"
      },
      "source": [
        "Divide y vencerás también tiene una complejidad media de O(n log(n)), al igual que quick sort, pero quick sort puede ser O(n²) en el peor caso. Para un millon de datos divide y vencerás es un 20 % mas rapido que quick sort, ya que divide las lista original en 2^n sublistas y la complejidad es siempre O(n log(n))."
      ]
    },
    {
      "cell_type": "markdown",
      "metadata": {
        "id": "ahm09JWHsQg8"
      },
      "source": [
        "### 2D"
      ]
    },
    {
      "cell_type": "code",
      "execution_count": null,
      "metadata": {
        "id": "Ls8BcdURsQg8"
      },
      "outputs": [],
      "source": [
        "LIST_2D = [(random.randrange(1, 10000), random.randrange(1, 10000))\n",
        "            for _ in range(1000)]"
      ]
    },
    {
      "cell_type": "code",
      "execution_count": null,
      "metadata": {
        "id": "oH102vRmsQg8"
      },
      "outputs": [],
      "source": [
        "def distance_2D(p1, p2):\n",
        "    return math.sqrt((p1[0] - p2[0]) ** 2 + (p1[1] - p2[1]) ** 2)"
      ]
    },
    {
      "cell_type": "code",
      "execution_count": null,
      "metadata": {
        "id": "TdvdW-VQsQg8"
      },
      "outputs": [],
      "source": [
        "def closest_pair_2D_brute_force(points):\n",
        "    # assert len(points) > 2, \"Not enough points.\"\n",
        "\n",
        "    min_dist = float('inf')\n",
        "    p1 = None\n",
        "    p2 = None\n",
        "\n",
        "    for i in range(len(points) - 1):\n",
        "        for j in range(i + 1, len(points)):\n",
        "            dist = distance_2D(points[i], points[j])\n",
        "\n",
        "            if dist < min_dist:\n",
        "                min_dist = dist\n",
        "                p1 = points[i]\n",
        "                p2 = points[j]\n",
        "\n",
        "    return p1, p2, min_dist"
      ]
    },
    {
      "cell_type": "code",
      "execution_count": null,
      "metadata": {
        "id": "5m61-O7DsQg8",
        "outputId": "419acbb9-0422-4792-b846-c27db56f9cb7"
      },
      "outputs": [
        {
          "name": "stdout",
          "output_type": "stream",
          "text": [
            "261 ms ± 6.33 ms per loop (mean ± std. dev. of 7 runs, 1 loop each)\n"
          ]
        }
      ],
      "source": [
        "%%timeit\n",
        "closest_pair_2D_brute_force(LIST_2D)"
      ]
    },
    {
      "cell_type": "markdown",
      "metadata": {
        "id": "hc3XVqe9sQg9"
      },
      "source": [
        "Fuerza bruta tiene una complejidad de O(n²).\n",
        "\n",
        "#### Divide y vencerás"
      ]
    },
    {
      "cell_type": "code",
      "execution_count": null,
      "metadata": {
        "id": "0ykxpgx6sQg9"
      },
      "outputs": [],
      "source": [
        "\n",
        "def closest_pair_2D_divide_and_conquer(P):\n",
        "    if len(P) < 2:\n",
        "        return None, None\n",
        "\n",
        "    # Sort points by x-coordinate\n",
        "    P_sorted_x = sorted(P, key=lambda x: x[0])\n",
        "\n",
        "    # Recursive function to find closest pair\n",
        "    def closest_pair_recursive(P_sorted_x):\n",
        "        n = len(P_sorted_x)\n",
        "        if n <= 3:\n",
        "            # If there are few points, use brute force\n",
        "            return closest_pair_2D_brute_force(P_sorted_x)\n",
        "\n",
        "        # Divide into two halves\n",
        "        middle = n // 2\n",
        "        middle_point = P_sorted_x[middle]\n",
        "\n",
        "        left_half = P_sorted_x[:middle]\n",
        "        right_half = P_sorted_x[middle:]\n",
        "\n",
        "        closest_pair_left = closest_pair_recursive(left_half)\n",
        "        closest_pair_right = closest_pair_recursive(right_half)\n",
        "\n",
        "        # Find the minimum distance between pairs in each half\n",
        "        if closest_pair_left is None:\n",
        "            min_distance = distance_2D(\n",
        "                closest_pair_right[0], closest_pair_right[1])\n",
        "            closest_pair = closest_pair_right\n",
        "        elif closest_pair_right is None:\n",
        "            min_distance = distance_2D(closest_pair_left[0], closest_pair_left[1])\n",
        "            closest_pair = closest_pair_left\n",
        "        else:\n",
        "            dist_left = distance_2D(closest_pair_left[0], closest_pair_left[1])\n",
        "            dist_right = distance_2D(closest_pair_right[0], closest_pair_right[1])\n",
        "\n",
        "            if dist_left < dist_right:\n",
        "                min_distance = dist_left\n",
        "                closest_pair = closest_pair_left\n",
        "            else:\n",
        "                min_distance = dist_right\n",
        "                closest_pair = closest_pair_right\n",
        "\n",
        "        # Check the central band for closer pairs\n",
        "        central_band = []\n",
        "        for point in P_sorted_x:\n",
        "            if abs(point[0] - middle_point[0]) < min_distance:\n",
        "                central_band.append(point)\n",
        "\n",
        "        # Compare each point in the central\n",
        "        for i in range(len(central_band)):\n",
        "            for j in range(i + 1, len(central_band)):\n",
        "                dist = distance_2D(central_band[i], central_band[j])\n",
        "                if dist < min_distance:\n",
        "                    min_distance = dist\n",
        "                    closest_pair = (central_band[i], central_band[j])\n",
        "\n",
        "        return closest_pair[0], closest_pair[1], min_distance\n",
        "\n",
        "    # Call the initial recursive function\n",
        "    return closest_pair_recursive(P_sorted_x)"
      ]
    },
    {
      "cell_type": "code",
      "execution_count": null,
      "metadata": {
        "id": "JzNAusvpsQg-",
        "outputId": "f38770cc-03fc-42cb-b643-252d3be26526"
      },
      "outputs": [
        {
          "name": "stdout",
          "output_type": "stream",
          "text": [
            "9.68 ms ± 624 µs per loop (mean ± std. dev. of 7 runs, 100 loops each)\n"
          ]
        }
      ],
      "source": [
        "%%timeit\n",
        "closest_pair_2D_divide_and_conquer(LIST_2D)"
      ]
    },
    {
      "cell_type": "markdown",
      "metadata": {
        "id": "Q37phfeGsQg-"
      },
      "source": [
        "Este algoritmo usando divide y vencerás tiene una complejidad de O(n log(n)), que es mucho mas eficiente que la fuerza bruta. Para una matriz de solo 1000 x 1000 se ve  un incremento del 96 %."
      ]
    },
    {
      "cell_type": "markdown",
      "metadata": {
        "id": "m7yaHZvksQg-"
      },
      "source": [
        "### 3D"
      ]
    },
    {
      "cell_type": "code",
      "execution_count": null,
      "metadata": {
        "id": "4bP9DOqnsQg_"
      },
      "outputs": [],
      "source": [
        "LIST_3D = [(random.randrange(1, 10000), random.randrange(1, 10000), random.randrange(1, 10000))\n",
        "            for _ in range(1000)]"
      ]
    },
    {
      "cell_type": "code",
      "execution_count": null,
      "metadata": {
        "id": "RKof0rTEsQg_"
      },
      "outputs": [],
      "source": [
        "def distance_3D(p1, p2):\n",
        "    return math.sqrt((p1[0] - p2[0]) ** 2 + (p1[1] - p2[1]) ** 2 + (p1[2] - p2[2]) ** 2)"
      ]
    },
    {
      "cell_type": "code",
      "execution_count": null,
      "metadata": {
        "id": "__OwH0aVsQg_"
      },
      "outputs": [],
      "source": [
        "def closest_pair_3D_brute_force(points):\n",
        "    min_dist = float('inf')\n",
        "    point1 = None\n",
        "    point2 = None\n",
        "\n",
        "    for i in range(len(points)):\n",
        "        for j in range(i + 1, len(points)):\n",
        "            dist = distance_3D(points[i], points[j])\n",
        "            if dist < min_dist:\n",
        "                min_dist = dist\n",
        "                point1 = points[i]\n",
        "                point2 = points[j]\n",
        "\n",
        "    return point1, point2, min_dist"
      ]
    },
    {
      "cell_type": "code",
      "execution_count": null,
      "metadata": {
        "id": "Pu_CZ-QJsQg_",
        "outputId": "237c6490-3968-4c64-ac04-8160b75d224a"
      },
      "outputs": [
        {
          "name": "stdout",
          "output_type": "stream",
          "text": [
            "364 ms ± 29.5 ms per loop (mean ± std. dev. of 7 runs, 1 loop each)\n"
          ]
        }
      ],
      "source": [
        "%%timeit\n",
        "closest_pair_3D_brute_force(LIST_3D)"
      ]
    },
    {
      "cell_type": "markdown",
      "metadata": {
        "id": "OUhTpC-BsQhA"
      },
      "source": [
        "Fuerza bruta tiene una complejidad de O(n²).\n",
        "\n",
        "#### Divide y vencerás"
      ]
    },
    {
      "cell_type": "code",
      "execution_count": null,
      "metadata": {
        "id": "Wj5BmexGsQhA"
      },
      "outputs": [],
      "source": [
        "def closest_pair_3D_divide_and_conquer(P):\n",
        "    if len(P) < 2:\n",
        "        return None, None\n",
        "\n",
        "    # Sort points by x-coordinate\n",
        "    P_sorted_x = sorted(P, key=lambda x: x[0])\n",
        "\n",
        "    # Recursive function to find closest pair\n",
        "    def closest_pair_recursive(P_sorted_x):\n",
        "        n = len(P_sorted_x)\n",
        "        if n <= 3:\n",
        "            # If there are few points, use brute force\n",
        "            return closest_pair_3D_brute_force(P_sorted_x)\n",
        "\n",
        "        # Divide into two halves\n",
        "        middle = n // 2\n",
        "        middle_point = P_sorted_x[middle]\n",
        "\n",
        "        left_half = P_sorted_x[:middle]\n",
        "        right_half = P_sorted_x[middle:]\n",
        "\n",
        "        closest_pair_left = closest_pair_recursive(left_half)\n",
        "        closest_pair_right = closest_pair_recursive(right_half)\n",
        "\n",
        "        # Find the minimum distance between pairs in each half\n",
        "        if closest_pair_left is None:\n",
        "            min_distance = distance_3D(\n",
        "                closest_pair_right[0], closest_pair_right[1])\n",
        "            closest_pair = closest_pair_right\n",
        "        elif closest_pair_right is None:\n",
        "            min_distance = distance_3D(\n",
        "                closest_pair_left[0], closest_pair_left[1])\n",
        "            closest_pair = closest_pair_left\n",
        "        else:\n",
        "            dist_left = distance_3D(closest_pair_left[0], closest_pair_left[1])\n",
        "            dist_right = distance_3D(\n",
        "                closest_pair_right[0], closest_pair_right[1])\n",
        "\n",
        "            if dist_left < dist_right:\n",
        "                min_distance = dist_left\n",
        "                closest_pair = closest_pair_left\n",
        "            else:\n",
        "                min_distance = dist_right\n",
        "                closest_pair = closest_pair_right\n",
        "\n",
        "        # Check the central band for closer pairs\n",
        "        central_band = []\n",
        "        for point in P_sorted_x:\n",
        "            if abs(point[0] - middle_point[0]) < min_distance:\n",
        "                central_band.append(point)\n",
        "\n",
        "        # Compare each point in the central band\n",
        "        for i in range(len(central_band)):\n",
        "            for j in range(i + 1, len(central_band)):\n",
        "                dist = distance_3D(central_band[i], central_band[j])\n",
        "                if dist < min_distance:\n",
        "                    min_distance = dist\n",
        "                    closest_pair = (central_band[i], central_band[j])\n",
        "\n",
        "        return closest_pair[0], closest_pair[1], min_distance\n",
        "\n",
        "    # Call the initial recursive function\n",
        "    return closest_pair_recursive(P_sorted_x)"
      ]
    },
    {
      "cell_type": "code",
      "execution_count": null,
      "metadata": {
        "id": "_YYSl97MsQhA",
        "outputId": "6b7dcf4c-3041-4c46-ffe7-1af246fec455"
      },
      "outputs": [
        {
          "name": "stdout",
          "output_type": "stream",
          "text": [
            "41.1 ms ± 7.47 ms per loop (mean ± std. dev. of 7 runs, 10 loops each)\n"
          ]
        }
      ],
      "source": [
        "%%timeit\n",
        "closest_pair_3D_divide_and_conquer(LIST_3D)"
      ]
    },
    {
      "cell_type": "markdown",
      "metadata": {
        "id": "9FNwYrN0sQhA"
      },
      "source": [
        "El algoritmo closest_pair_3D_divide_and_conquer tiene una complejidad temporal de O(n log²(n)):\n",
        "\n",
        "- Ordenamiento: Los puntos se ordenan inicialmente por la coordenada x, lo cual toma O(n log(n)).\n",
        "- En el paso de combinación, se comparan puntos en una banda central, ordenados por la coordenada y y luego por la coordenada z, lo cual toma O(n log(n)).\n",
        "\n",
        "Para 1000 elementos, divide y vencerás es un 89 % más veloz."
      ]
    }
  ],
  "metadata": {
    "colab": {
      "provenance": []
    },
    "kernelspec": {
      "display_name": "Python 3",
      "name": "python3"
    },
    "language_info": {
      "codemirror_mode": {
        "name": "ipython",
        "version": 3
      },
      "file_extension": ".py",
      "mimetype": "text/x-python",
      "name": "python",
      "nbconvert_exporter": "python",
      "pygments_lexer": "ipython3",
      "version": "3.10.12"
    }
  },
  "nbformat": 4,
  "nbformat_minor": 0
}